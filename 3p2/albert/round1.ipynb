{
 "cells": [
  {
   "cell_type": "code",
   "execution_count": 1,
   "metadata": {},
   "outputs": [],
   "source": [
    "import pandas as pd\n",
    "import matplotlib.pyplot as plt\n",
    "from util import *\n",
    "\n",
    "\n",
    "# PATH_WINDOWS = '..\\\\data\\\\round1\\\\prices_round_'\n",
    "# PATH_LINUX = '..\\data\\round1\\prices_round_'\n",
    "PATH_MAC_PRICES = '/Users/albertyang/Desktop/IMC_Prosperity/data/round-1-island-data-bottle/prices_round_'\n",
    "PATH_MAC_TRADES = '/Users/albertyang/Desktop/IMC_Prosperity/data/round-1-island-data-bottle/trades_round_'\n",
    "\n",
    "path_prices = PATH_MAC_PRICES\n",
    "path_trades = PATH_MAC_TRADES\n",
    "round = 1\n",
    "\n",
    "data0_prices = pd.read_csv(filepath_or_buffer = f'{path_prices}{round}_day_0.csv', sep=';')\n",
    "data1_prices = pd.read_csv(filepath_or_buffer = f'{path_prices}{round}_day_-1.csv', sep=';')\n",
    "data2_prices = pd.read_csv(filepath_or_buffer = f'{path_prices}{round}_day_-2.csv', sep=';')\n",
    "\n",
    "data0_trades = pd.read_csv(filepath_or_buffer = f'{path_trades}{round}_day_0.csv', sep=';')\n",
    "data1_trades = pd.read_csv(filepath_or_buffer = f'{path_trades}{round}_day_-1.csv', sep=';')\n",
    "data2_trades = pd.read_csv(filepath_or_buffer = f'{path_trades}{round}_day_-2.csv', sep=';')"
   ]
  },
  {
   "cell_type": "code",
   "execution_count": 2,
   "metadata": {},
   "outputs": [],
   "source": [
    "asset = 'SQUID_INK'\n",
    "\n",
    "\n",
    "data_0_prices = data0_prices.loc[data0_prices['product'] == asset]\n",
    "data_1_prices = data1_prices.loc[data1_prices['product'] == asset]\n",
    "data_2_prices = data2_prices.loc[data2_prices['product'] == asset]\n",
    "\n",
    "data_0_trades = data0_trades.loc[data0_trades['symbol'] == asset]\n",
    "data_1_trades = data1_trades.loc[data1_trades['symbol'] == asset]\n",
    "data_2_trades = data2_trades.loc[data2_trades['symbol'] == asset]"
   ]
  },
  {
   "cell_type": "code",
   "execution_count": 3,
   "metadata": {},
   "outputs": [
    {
     "data": {
      "text/html": [
       "<div>\n",
       "<style scoped>\n",
       "    .dataframe tbody tr th:only-of-type {\n",
       "        vertical-align: middle;\n",
       "    }\n",
       "\n",
       "    .dataframe tbody tr th {\n",
       "        vertical-align: top;\n",
       "    }\n",
       "\n",
       "    .dataframe thead th {\n",
       "        text-align: right;\n",
       "    }\n",
       "</style>\n",
       "<table border=\"1\" class=\"dataframe\">\n",
       "  <thead>\n",
       "    <tr style=\"text-align: right;\">\n",
       "      <th></th>\n",
       "      <th>timestamp</th>\n",
       "      <th>buyer</th>\n",
       "      <th>seller</th>\n",
       "      <th>symbol</th>\n",
       "      <th>currency</th>\n",
       "      <th>price</th>\n",
       "      <th>quantity</th>\n",
       "    </tr>\n",
       "  </thead>\n",
       "  <tbody>\n",
       "    <tr>\n",
       "      <th>4</th>\n",
       "      <td>300</td>\n",
       "      <td>NaN</td>\n",
       "      <td>NaN</td>\n",
       "      <td>SQUID_INK</td>\n",
       "      <td>SEASHELLS</td>\n",
       "      <td>1965.0</td>\n",
       "      <td>6</td>\n",
       "    </tr>\n",
       "    <tr>\n",
       "      <th>8</th>\n",
       "      <td>500</td>\n",
       "      <td>NaN</td>\n",
       "      <td>NaN</td>\n",
       "      <td>SQUID_INK</td>\n",
       "      <td>SEASHELLS</td>\n",
       "      <td>1970.0</td>\n",
       "      <td>1</td>\n",
       "    </tr>\n",
       "    <tr>\n",
       "      <th>10</th>\n",
       "      <td>1300</td>\n",
       "      <td>NaN</td>\n",
       "      <td>NaN</td>\n",
       "      <td>SQUID_INK</td>\n",
       "      <td>SEASHELLS</td>\n",
       "      <td>1970.0</td>\n",
       "      <td>2</td>\n",
       "    </tr>\n",
       "    <tr>\n",
       "      <th>11</th>\n",
       "      <td>1300</td>\n",
       "      <td>NaN</td>\n",
       "      <td>NaN</td>\n",
       "      <td>SQUID_INK</td>\n",
       "      <td>SEASHELLS</td>\n",
       "      <td>1968.0</td>\n",
       "      <td>5</td>\n",
       "    </tr>\n",
       "    <tr>\n",
       "      <th>13</th>\n",
       "      <td>1400</td>\n",
       "      <td>NaN</td>\n",
       "      <td>NaN</td>\n",
       "      <td>SQUID_INK</td>\n",
       "      <td>SEASHELLS</td>\n",
       "      <td>1969.0</td>\n",
       "      <td>1</td>\n",
       "    </tr>\n",
       "    <tr>\n",
       "      <th>...</th>\n",
       "      <td>...</td>\n",
       "      <td>...</td>\n",
       "      <td>...</td>\n",
       "      <td>...</td>\n",
       "      <td>...</td>\n",
       "      <td>...</td>\n",
       "      <td>...</td>\n",
       "    </tr>\n",
       "    <tr>\n",
       "      <th>8171</th>\n",
       "      <td>998500</td>\n",
       "      <td>NaN</td>\n",
       "      <td>NaN</td>\n",
       "      <td>SQUID_INK</td>\n",
       "      <td>SEASHELLS</td>\n",
       "      <td>1840.0</td>\n",
       "      <td>10</td>\n",
       "    </tr>\n",
       "    <tr>\n",
       "      <th>8173</th>\n",
       "      <td>998700</td>\n",
       "      <td>NaN</td>\n",
       "      <td>NaN</td>\n",
       "      <td>SQUID_INK</td>\n",
       "      <td>SEASHELLS</td>\n",
       "      <td>1840.0</td>\n",
       "      <td>1</td>\n",
       "    </tr>\n",
       "    <tr>\n",
       "      <th>8176</th>\n",
       "      <td>998800</td>\n",
       "      <td>NaN</td>\n",
       "      <td>NaN</td>\n",
       "      <td>SQUID_INK</td>\n",
       "      <td>SEASHELLS</td>\n",
       "      <td>1831.0</td>\n",
       "      <td>1</td>\n",
       "    </tr>\n",
       "    <tr>\n",
       "      <th>8179</th>\n",
       "      <td>999500</td>\n",
       "      <td>NaN</td>\n",
       "      <td>NaN</td>\n",
       "      <td>SQUID_INK</td>\n",
       "      <td>SEASHELLS</td>\n",
       "      <td>1830.0</td>\n",
       "      <td>2</td>\n",
       "    </tr>\n",
       "    <tr>\n",
       "      <th>8181</th>\n",
       "      <td>999600</td>\n",
       "      <td>NaN</td>\n",
       "      <td>NaN</td>\n",
       "      <td>SQUID_INK</td>\n",
       "      <td>SEASHELLS</td>\n",
       "      <td>1832.0</td>\n",
       "      <td>1</td>\n",
       "    </tr>\n",
       "  </tbody>\n",
       "</table>\n",
       "<p>2899 rows × 7 columns</p>\n",
       "</div>"
      ],
      "text/plain": [
       "      timestamp  buyer  seller     symbol   currency   price  quantity\n",
       "4           300    NaN     NaN  SQUID_INK  SEASHELLS  1965.0         6\n",
       "8           500    NaN     NaN  SQUID_INK  SEASHELLS  1970.0         1\n",
       "10         1300    NaN     NaN  SQUID_INK  SEASHELLS  1970.0         2\n",
       "11         1300    NaN     NaN  SQUID_INK  SEASHELLS  1968.0         5\n",
       "13         1400    NaN     NaN  SQUID_INK  SEASHELLS  1969.0         1\n",
       "...         ...    ...     ...        ...        ...     ...       ...\n",
       "8171     998500    NaN     NaN  SQUID_INK  SEASHELLS  1840.0        10\n",
       "8173     998700    NaN     NaN  SQUID_INK  SEASHELLS  1840.0         1\n",
       "8176     998800    NaN     NaN  SQUID_INK  SEASHELLS  1831.0         1\n",
       "8179     999500    NaN     NaN  SQUID_INK  SEASHELLS  1830.0         2\n",
       "8181     999600    NaN     NaN  SQUID_INK  SEASHELLS  1832.0         1\n",
       "\n",
       "[2899 rows x 7 columns]"
      ]
     },
     "execution_count": 3,
     "metadata": {},
     "output_type": "execute_result"
    }
   ],
   "source": [
    "data_0_trades"
   ]
  },
  {
   "cell_type": "code",
   "execution_count": 4,
   "metadata": {},
   "outputs": [
    {
     "data": {
      "text/html": [
       "<div>\n",
       "<style scoped>\n",
       "    .dataframe tbody tr th:only-of-type {\n",
       "        vertical-align: middle;\n",
       "    }\n",
       "\n",
       "    .dataframe tbody tr th {\n",
       "        vertical-align: top;\n",
       "    }\n",
       "\n",
       "    .dataframe thead th {\n",
       "        text-align: right;\n",
       "    }\n",
       "</style>\n",
       "<table border=\"1\" class=\"dataframe\">\n",
       "  <thead>\n",
       "    <tr style=\"text-align: right;\">\n",
       "      <th></th>\n",
       "      <th>day</th>\n",
       "      <th>timestamp</th>\n",
       "      <th>product</th>\n",
       "      <th>bid_price_1</th>\n",
       "      <th>bid_volume_1</th>\n",
       "      <th>bid_price_2</th>\n",
       "      <th>bid_volume_2</th>\n",
       "      <th>bid_price_3</th>\n",
       "      <th>bid_volume_3</th>\n",
       "      <th>ask_price_1</th>\n",
       "      <th>ask_volume_1</th>\n",
       "      <th>ask_price_2</th>\n",
       "      <th>ask_volume_2</th>\n",
       "      <th>ask_price_3</th>\n",
       "      <th>ask_volume_3</th>\n",
       "      <th>mid_price</th>\n",
       "      <th>profit_and_loss</th>\n",
       "    </tr>\n",
       "  </thead>\n",
       "  <tbody>\n",
       "    <tr>\n",
       "      <th>2</th>\n",
       "      <td>0</td>\n",
       "      <td>0</td>\n",
       "      <td>SQUID_INK</td>\n",
       "      <td>1968</td>\n",
       "      <td>30</td>\n",
       "      <td>NaN</td>\n",
       "      <td>NaN</td>\n",
       "      <td>NaN</td>\n",
       "      <td>NaN</td>\n",
       "      <td>1971</td>\n",
       "      <td>30</td>\n",
       "      <td>NaN</td>\n",
       "      <td>NaN</td>\n",
       "      <td>NaN</td>\n",
       "      <td>NaN</td>\n",
       "      <td>1969.5</td>\n",
       "      <td>0.0</td>\n",
       "    </tr>\n",
       "    <tr>\n",
       "      <th>3</th>\n",
       "      <td>0</td>\n",
       "      <td>100</td>\n",
       "      <td>SQUID_INK</td>\n",
       "      <td>1969</td>\n",
       "      <td>4</td>\n",
       "      <td>1967.0</td>\n",
       "      <td>31.0</td>\n",
       "      <td>NaN</td>\n",
       "      <td>NaN</td>\n",
       "      <td>1971</td>\n",
       "      <td>31</td>\n",
       "      <td>NaN</td>\n",
       "      <td>NaN</td>\n",
       "      <td>NaN</td>\n",
       "      <td>NaN</td>\n",
       "      <td>1970.0</td>\n",
       "      <td>0.0</td>\n",
       "    </tr>\n",
       "    <tr>\n",
       "      <th>6</th>\n",
       "      <td>0</td>\n",
       "      <td>200</td>\n",
       "      <td>SQUID_INK</td>\n",
       "      <td>1966</td>\n",
       "      <td>1</td>\n",
       "      <td>1965.0</td>\n",
       "      <td>21.0</td>\n",
       "      <td>NaN</td>\n",
       "      <td>NaN</td>\n",
       "      <td>1969</td>\n",
       "      <td>22</td>\n",
       "      <td>NaN</td>\n",
       "      <td>NaN</td>\n",
       "      <td>NaN</td>\n",
       "      <td>NaN</td>\n",
       "      <td>1967.5</td>\n",
       "      <td>0.0</td>\n",
       "    </tr>\n",
       "    <tr>\n",
       "      <th>9</th>\n",
       "      <td>0</td>\n",
       "      <td>300</td>\n",
       "      <td>SQUID_INK</td>\n",
       "      <td>1965</td>\n",
       "      <td>25</td>\n",
       "      <td>NaN</td>\n",
       "      <td>NaN</td>\n",
       "      <td>NaN</td>\n",
       "      <td>NaN</td>\n",
       "      <td>1968</td>\n",
       "      <td>25</td>\n",
       "      <td>NaN</td>\n",
       "      <td>NaN</td>\n",
       "      <td>NaN</td>\n",
       "      <td>NaN</td>\n",
       "      <td>1966.5</td>\n",
       "      <td>0.0</td>\n",
       "    </tr>\n",
       "    <tr>\n",
       "      <th>14</th>\n",
       "      <td>0</td>\n",
       "      <td>400</td>\n",
       "      <td>SQUID_INK</td>\n",
       "      <td>1966</td>\n",
       "      <td>25</td>\n",
       "      <td>NaN</td>\n",
       "      <td>NaN</td>\n",
       "      <td>NaN</td>\n",
       "      <td>NaN</td>\n",
       "      <td>1968</td>\n",
       "      <td>6</td>\n",
       "      <td>1969.0</td>\n",
       "      <td>25.0</td>\n",
       "      <td>NaN</td>\n",
       "      <td>NaN</td>\n",
       "      <td>1967.0</td>\n",
       "      <td>0.0</td>\n",
       "    </tr>\n",
       "    <tr>\n",
       "      <th>...</th>\n",
       "      <td>...</td>\n",
       "      <td>...</td>\n",
       "      <td>...</td>\n",
       "      <td>...</td>\n",
       "      <td>...</td>\n",
       "      <td>...</td>\n",
       "      <td>...</td>\n",
       "      <td>...</td>\n",
       "      <td>...</td>\n",
       "      <td>...</td>\n",
       "      <td>...</td>\n",
       "      <td>...</td>\n",
       "      <td>...</td>\n",
       "      <td>...</td>\n",
       "      <td>...</td>\n",
       "      <td>...</td>\n",
       "      <td>...</td>\n",
       "    </tr>\n",
       "    <tr>\n",
       "      <th>29986</th>\n",
       "      <td>0</td>\n",
       "      <td>999500</td>\n",
       "      <td>SQUID_INK</td>\n",
       "      <td>1830</td>\n",
       "      <td>28</td>\n",
       "      <td>NaN</td>\n",
       "      <td>NaN</td>\n",
       "      <td>NaN</td>\n",
       "      <td>NaN</td>\n",
       "      <td>1833</td>\n",
       "      <td>28</td>\n",
       "      <td>NaN</td>\n",
       "      <td>NaN</td>\n",
       "      <td>NaN</td>\n",
       "      <td>NaN</td>\n",
       "      <td>1831.5</td>\n",
       "      <td>0.0</td>\n",
       "    </tr>\n",
       "    <tr>\n",
       "      <th>29989</th>\n",
       "      <td>0</td>\n",
       "      <td>999600</td>\n",
       "      <td>SQUID_INK</td>\n",
       "      <td>1832</td>\n",
       "      <td>7</td>\n",
       "      <td>1831.0</td>\n",
       "      <td>29.0</td>\n",
       "      <td>NaN</td>\n",
       "      <td>NaN</td>\n",
       "      <td>1834</td>\n",
       "      <td>2</td>\n",
       "      <td>1835.0</td>\n",
       "      <td>27.0</td>\n",
       "      <td>NaN</td>\n",
       "      <td>NaN</td>\n",
       "      <td>1833.0</td>\n",
       "      <td>0.0</td>\n",
       "    </tr>\n",
       "    <tr>\n",
       "      <th>29993</th>\n",
       "      <td>0</td>\n",
       "      <td>999700</td>\n",
       "      <td>SQUID_INK</td>\n",
       "      <td>1834</td>\n",
       "      <td>1</td>\n",
       "      <td>1832.0</td>\n",
       "      <td>26.0</td>\n",
       "      <td>NaN</td>\n",
       "      <td>NaN</td>\n",
       "      <td>1835</td>\n",
       "      <td>26</td>\n",
       "      <td>NaN</td>\n",
       "      <td>NaN</td>\n",
       "      <td>NaN</td>\n",
       "      <td>NaN</td>\n",
       "      <td>1834.5</td>\n",
       "      <td>0.0</td>\n",
       "    </tr>\n",
       "    <tr>\n",
       "      <th>29994</th>\n",
       "      <td>0</td>\n",
       "      <td>999800</td>\n",
       "      <td>SQUID_INK</td>\n",
       "      <td>1837</td>\n",
       "      <td>27</td>\n",
       "      <td>NaN</td>\n",
       "      <td>NaN</td>\n",
       "      <td>NaN</td>\n",
       "      <td>NaN</td>\n",
       "      <td>1839</td>\n",
       "      <td>1</td>\n",
       "      <td>1840.0</td>\n",
       "      <td>27.0</td>\n",
       "      <td>NaN</td>\n",
       "      <td>NaN</td>\n",
       "      <td>1838.0</td>\n",
       "      <td>0.0</td>\n",
       "    </tr>\n",
       "    <tr>\n",
       "      <th>29998</th>\n",
       "      <td>0</td>\n",
       "      <td>999900</td>\n",
       "      <td>SQUID_INK</td>\n",
       "      <td>1838</td>\n",
       "      <td>23</td>\n",
       "      <td>NaN</td>\n",
       "      <td>NaN</td>\n",
       "      <td>NaN</td>\n",
       "      <td>NaN</td>\n",
       "      <td>1841</td>\n",
       "      <td>23</td>\n",
       "      <td>NaN</td>\n",
       "      <td>NaN</td>\n",
       "      <td>NaN</td>\n",
       "      <td>NaN</td>\n",
       "      <td>1839.5</td>\n",
       "      <td>0.0</td>\n",
       "    </tr>\n",
       "  </tbody>\n",
       "</table>\n",
       "<p>10000 rows × 17 columns</p>\n",
       "</div>"
      ],
      "text/plain": [
       "       day  timestamp    product  bid_price_1  bid_volume_1  bid_price_2  \\\n",
       "2        0          0  SQUID_INK         1968            30          NaN   \n",
       "3        0        100  SQUID_INK         1969             4       1967.0   \n",
       "6        0        200  SQUID_INK         1966             1       1965.0   \n",
       "9        0        300  SQUID_INK         1965            25          NaN   \n",
       "14       0        400  SQUID_INK         1966            25          NaN   \n",
       "...    ...        ...        ...          ...           ...          ...   \n",
       "29986    0     999500  SQUID_INK         1830            28          NaN   \n",
       "29989    0     999600  SQUID_INK         1832             7       1831.0   \n",
       "29993    0     999700  SQUID_INK         1834             1       1832.0   \n",
       "29994    0     999800  SQUID_INK         1837            27          NaN   \n",
       "29998    0     999900  SQUID_INK         1838            23          NaN   \n",
       "\n",
       "       bid_volume_2  bid_price_3  bid_volume_3  ask_price_1  ask_volume_1  \\\n",
       "2               NaN          NaN           NaN         1971            30   \n",
       "3              31.0          NaN           NaN         1971            31   \n",
       "6              21.0          NaN           NaN         1969            22   \n",
       "9               NaN          NaN           NaN         1968            25   \n",
       "14              NaN          NaN           NaN         1968             6   \n",
       "...             ...          ...           ...          ...           ...   \n",
       "29986           NaN          NaN           NaN         1833            28   \n",
       "29989          29.0          NaN           NaN         1834             2   \n",
       "29993          26.0          NaN           NaN         1835            26   \n",
       "29994           NaN          NaN           NaN         1839             1   \n",
       "29998           NaN          NaN           NaN         1841            23   \n",
       "\n",
       "       ask_price_2  ask_volume_2  ask_price_3  ask_volume_3  mid_price  \\\n",
       "2              NaN           NaN          NaN           NaN     1969.5   \n",
       "3              NaN           NaN          NaN           NaN     1970.0   \n",
       "6              NaN           NaN          NaN           NaN     1967.5   \n",
       "9              NaN           NaN          NaN           NaN     1966.5   \n",
       "14          1969.0          25.0          NaN           NaN     1967.0   \n",
       "...            ...           ...          ...           ...        ...   \n",
       "29986          NaN           NaN          NaN           NaN     1831.5   \n",
       "29989       1835.0          27.0          NaN           NaN     1833.0   \n",
       "29993          NaN           NaN          NaN           NaN     1834.5   \n",
       "29994       1840.0          27.0          NaN           NaN     1838.0   \n",
       "29998          NaN           NaN          NaN           NaN     1839.5   \n",
       "\n",
       "       profit_and_loss  \n",
       "2                  0.0  \n",
       "3                  0.0  \n",
       "6                  0.0  \n",
       "9                  0.0  \n",
       "14                 0.0  \n",
       "...                ...  \n",
       "29986              0.0  \n",
       "29989              0.0  \n",
       "29993              0.0  \n",
       "29994              0.0  \n",
       "29998              0.0  \n",
       "\n",
       "[10000 rows x 17 columns]"
      ]
     },
     "execution_count": 4,
     "metadata": {},
     "output_type": "execute_result"
    }
   ],
   "source": [
    "data_0_prices"
   ]
  },
  {
   "cell_type": "code",
   "execution_count": 5,
   "metadata": {},
   "outputs": [
    {
     "data": {
      "application/vnd.plotly.v1+json": {
       "config": {
        "plotlyServerURL": "https://plot.ly"
       },
       "data": [
        {
         "mode": "markers",
         "name": "Y-axis",
         "type": "scatter",
         "x": {
          "bdata": "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",
          "dtype": "i4"
         },
         "y": {
          "bdata": "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",
          "dtype": "f8"
         }
        }
       ],
       "layout": {
        "showlegend": true,
        "template": {
         "data": {
          "bar": [
           {
            "error_x": {
             "color": "#2a3f5f"
            },
            "error_y": {
             "color": "#2a3f5f"
            },
            "marker": {
             "line": {
              "color": "#E5ECF6",
              "width": 0.5
             },
             "pattern": {
              "fillmode": "overlay",
              "size": 10,
              "solidity": 0.2
             }
            },
            "type": "bar"
           }
          ],
          "barpolar": [
           {
            "marker": {
             "line": {
              "color": "#E5ECF6",
              "width": 0.5
             },
             "pattern": {
              "fillmode": "overlay",
              "size": 10,
              "solidity": 0.2
             }
            },
            "type": "barpolar"
           }
          ],
          "carpet": [
           {
            "aaxis": {
             "endlinecolor": "#2a3f5f",
             "gridcolor": "white",
             "linecolor": "white",
             "minorgridcolor": "white",
             "startlinecolor": "#2a3f5f"
            },
            "baxis": {
             "endlinecolor": "#2a3f5f",
             "gridcolor": "white",
             "linecolor": "white",
             "minorgridcolor": "white",
             "startlinecolor": "#2a3f5f"
            },
            "type": "carpet"
           }
          ],
          "choropleth": [
           {
            "colorbar": {
             "outlinewidth": 0,
             "ticks": ""
            },
            "type": "choropleth"
           }
          ],
          "contour": [
           {
            "colorbar": {
             "outlinewidth": 0,
             "ticks": ""
            },
            "colorscale": [
             [
              0,
              "#0d0887"
             ],
             [
              0.1111111111111111,
              "#46039f"
             ],
             [
              0.2222222222222222,
              "#7201a8"
             ],
             [
              0.3333333333333333,
              "#9c179e"
             ],
             [
              0.4444444444444444,
              "#bd3786"
             ],
             [
              0.5555555555555556,
              "#d8576b"
             ],
             [
              0.6666666666666666,
              "#ed7953"
             ],
             [
              0.7777777777777778,
              "#fb9f3a"
             ],
             [
              0.8888888888888888,
              "#fdca26"
             ],
             [
              1,
              "#f0f921"
             ]
            ],
            "type": "contour"
           }
          ],
          "contourcarpet": [
           {
            "colorbar": {
             "outlinewidth": 0,
             "ticks": ""
            },
            "type": "contourcarpet"
           }
          ],
          "heatmap": [
           {
            "colorbar": {
             "outlinewidth": 0,
             "ticks": ""
            },
            "colorscale": [
             [
              0,
              "#0d0887"
             ],
             [
              0.1111111111111111,
              "#46039f"
             ],
             [
              0.2222222222222222,
              "#7201a8"
             ],
             [
              0.3333333333333333,
              "#9c179e"
             ],
             [
              0.4444444444444444,
              "#bd3786"
             ],
             [
              0.5555555555555556,
              "#d8576b"
             ],
             [
              0.6666666666666666,
              "#ed7953"
             ],
             [
              0.7777777777777778,
              "#fb9f3a"
             ],
             [
              0.8888888888888888,
              "#fdca26"
             ],
             [
              1,
              "#f0f921"
             ]
            ],
            "type": "heatmap"
           }
          ],
          "histogram": [
           {
            "marker": {
             "pattern": {
              "fillmode": "overlay",
              "size": 10,
              "solidity": 0.2
             }
            },
            "type": "histogram"
           }
          ],
          "histogram2d": [
           {
            "colorbar": {
             "outlinewidth": 0,
             "ticks": ""
            },
            "colorscale": [
             [
              0,
              "#0d0887"
             ],
             [
              0.1111111111111111,
              "#46039f"
             ],
             [
              0.2222222222222222,
              "#7201a8"
             ],
             [
              0.3333333333333333,
              "#9c179e"
             ],
             [
              0.4444444444444444,
              "#bd3786"
             ],
             [
              0.5555555555555556,
              "#d8576b"
             ],
             [
              0.6666666666666666,
              "#ed7953"
             ],
             [
              0.7777777777777778,
              "#fb9f3a"
             ],
             [
              0.8888888888888888,
              "#fdca26"
             ],
             [
              1,
              "#f0f921"
             ]
            ],
            "type": "histogram2d"
           }
          ],
          "histogram2dcontour": [
           {
            "colorbar": {
             "outlinewidth": 0,
             "ticks": ""
            },
            "colorscale": [
             [
              0,
              "#0d0887"
             ],
             [
              0.1111111111111111,
              "#46039f"
             ],
             [
              0.2222222222222222,
              "#7201a8"
             ],
             [
              0.3333333333333333,
              "#9c179e"
             ],
             [
              0.4444444444444444,
              "#bd3786"
             ],
             [
              0.5555555555555556,
              "#d8576b"
             ],
             [
              0.6666666666666666,
              "#ed7953"
             ],
             [
              0.7777777777777778,
              "#fb9f3a"
             ],
             [
              0.8888888888888888,
              "#fdca26"
             ],
             [
              1,
              "#f0f921"
             ]
            ],
            "type": "histogram2dcontour"
           }
          ],
          "mesh3d": [
           {
            "colorbar": {
             "outlinewidth": 0,
             "ticks": ""
            },
            "type": "mesh3d"
           }
          ],
          "parcoords": [
           {
            "line": {
             "colorbar": {
              "outlinewidth": 0,
              "ticks": ""
             }
            },
            "type": "parcoords"
           }
          ],
          "pie": [
           {
            "automargin": true,
            "type": "pie"
           }
          ],
          "scatter": [
           {
            "fillpattern": {
             "fillmode": "overlay",
             "size": 10,
             "solidity": 0.2
            },
            "type": "scatter"
           }
          ],
          "scatter3d": [
           {
            "line": {
             "colorbar": {
              "outlinewidth": 0,
              "ticks": ""
             }
            },
            "marker": {
             "colorbar": {
              "outlinewidth": 0,
              "ticks": ""
             }
            },
            "type": "scatter3d"
           }
          ],
          "scattercarpet": [
           {
            "marker": {
             "colorbar": {
              "outlinewidth": 0,
              "ticks": ""
             }
            },
            "type": "scattercarpet"
           }
          ],
          "scattergeo": [
           {
            "marker": {
             "colorbar": {
              "outlinewidth": 0,
              "ticks": ""
             }
            },
            "type": "scattergeo"
           }
          ],
          "scattergl": [
           {
            "marker": {
             "colorbar": {
              "outlinewidth": 0,
              "ticks": ""
             }
            },
            "type": "scattergl"
           }
          ],
          "scattermap": [
           {
            "marker": {
             "colorbar": {
              "outlinewidth": 0,
              "ticks": ""
             }
            },
            "type": "scattermap"
           }
          ],
          "scattermapbox": [
           {
            "marker": {
             "colorbar": {
              "outlinewidth": 0,
              "ticks": ""
             }
            },
            "type": "scattermapbox"
           }
          ],
          "scatterpolar": [
           {
            "marker": {
             "colorbar": {
              "outlinewidth": 0,
              "ticks": ""
             }
            },
            "type": "scatterpolar"
           }
          ],
          "scatterpolargl": [
           {
            "marker": {
             "colorbar": {
              "outlinewidth": 0,
              "ticks": ""
             }
            },
            "type": "scatterpolargl"
           }
          ],
          "scatterternary": [
           {
            "marker": {
             "colorbar": {
              "outlinewidth": 0,
              "ticks": ""
             }
            },
            "type": "scatterternary"
           }
          ],
          "surface": [
           {
            "colorbar": {
             "outlinewidth": 0,
             "ticks": ""
            },
            "colorscale": [
             [
              0,
              "#0d0887"
             ],
             [
              0.1111111111111111,
              "#46039f"
             ],
             [
              0.2222222222222222,
              "#7201a8"
             ],
             [
              0.3333333333333333,
              "#9c179e"
             ],
             [
              0.4444444444444444,
              "#bd3786"
             ],
             [
              0.5555555555555556,
              "#d8576b"
             ],
             [
              0.6666666666666666,
              "#ed7953"
             ],
             [
              0.7777777777777778,
              "#fb9f3a"
             ],
             [
              0.8888888888888888,
              "#fdca26"
             ],
             [
              1,
              "#f0f921"
             ]
            ],
            "type": "surface"
           }
          ],
          "table": [
           {
            "cells": {
             "fill": {
              "color": "#EBF0F8"
             },
             "line": {
              "color": "white"
             }
            },
            "header": {
             "fill": {
              "color": "#C8D4E3"
             },
             "line": {
              "color": "white"
             }
            },
            "type": "table"
           }
          ]
         },
         "layout": {
          "annotationdefaults": {
           "arrowcolor": "#2a3f5f",
           "arrowhead": 0,
           "arrowwidth": 1
          },
          "autotypenumbers": "strict",
          "coloraxis": {
           "colorbar": {
            "outlinewidth": 0,
            "ticks": ""
           }
          },
          "colorscale": {
           "diverging": [
            [
             0,
             "#8e0152"
            ],
            [
             0.1,
             "#c51b7d"
            ],
            [
             0.2,
             "#de77ae"
            ],
            [
             0.3,
             "#f1b6da"
            ],
            [
             0.4,
             "#fde0ef"
            ],
            [
             0.5,
             "#f7f7f7"
            ],
            [
             0.6,
             "#e6f5d0"
            ],
            [
             0.7,
             "#b8e186"
            ],
            [
             0.8,
             "#7fbc41"
            ],
            [
             0.9,
             "#4d9221"
            ],
            [
             1,
             "#276419"
            ]
           ],
           "sequential": [
            [
             0,
             "#0d0887"
            ],
            [
             0.1111111111111111,
             "#46039f"
            ],
            [
             0.2222222222222222,
             "#7201a8"
            ],
            [
             0.3333333333333333,
             "#9c179e"
            ],
            [
             0.4444444444444444,
             "#bd3786"
            ],
            [
             0.5555555555555556,
             "#d8576b"
            ],
            [
             0.6666666666666666,
             "#ed7953"
            ],
            [
             0.7777777777777778,
             "#fb9f3a"
            ],
            [
             0.8888888888888888,
             "#fdca26"
            ],
            [
             1,
             "#f0f921"
            ]
           ],
           "sequentialminus": [
            [
             0,
             "#0d0887"
            ],
            [
             0.1111111111111111,
             "#46039f"
            ],
            [
             0.2222222222222222,
             "#7201a8"
            ],
            [
             0.3333333333333333,
             "#9c179e"
            ],
            [
             0.4444444444444444,
             "#bd3786"
            ],
            [
             0.5555555555555556,
             "#d8576b"
            ],
            [
             0.6666666666666666,
             "#ed7953"
            ],
            [
             0.7777777777777778,
             "#fb9f3a"
            ],
            [
             0.8888888888888888,
             "#fdca26"
            ],
            [
             1,
             "#f0f921"
            ]
           ]
          },
          "colorway": [
           "#636efa",
           "#EF553B",
           "#00cc96",
           "#ab63fa",
           "#FFA15A",
           "#19d3f3",
           "#FF6692",
           "#B6E880",
           "#FF97FF",
           "#FECB52"
          ],
          "font": {
           "color": "#2a3f5f"
          },
          "geo": {
           "bgcolor": "white",
           "lakecolor": "white",
           "landcolor": "#E5ECF6",
           "showlakes": true,
           "showland": true,
           "subunitcolor": "white"
          },
          "hoverlabel": {
           "align": "left"
          },
          "hovermode": "closest",
          "mapbox": {
           "style": "light"
          },
          "paper_bgcolor": "white",
          "plot_bgcolor": "#E5ECF6",
          "polar": {
           "angularaxis": {
            "gridcolor": "white",
            "linecolor": "white",
            "ticks": ""
           },
           "bgcolor": "#E5ECF6",
           "radialaxis": {
            "gridcolor": "white",
            "linecolor": "white",
            "ticks": ""
           }
          },
          "scene": {
           "xaxis": {
            "backgroundcolor": "#E5ECF6",
            "gridcolor": "white",
            "gridwidth": 2,
            "linecolor": "white",
            "showbackground": true,
            "ticks": "",
            "zerolinecolor": "white"
           },
           "yaxis": {
            "backgroundcolor": "#E5ECF6",
            "gridcolor": "white",
            "gridwidth": 2,
            "linecolor": "white",
            "showbackground": true,
            "ticks": "",
            "zerolinecolor": "white"
           },
           "zaxis": {
            "backgroundcolor": "#E5ECF6",
            "gridcolor": "white",
            "gridwidth": 2,
            "linecolor": "white",
            "showbackground": true,
            "ticks": "",
            "zerolinecolor": "white"
           }
          },
          "shapedefaults": {
           "line": {
            "color": "#2a3f5f"
           }
          },
          "ternary": {
           "aaxis": {
            "gridcolor": "white",
            "linecolor": "white",
            "ticks": ""
           },
           "baxis": {
            "gridcolor": "white",
            "linecolor": "white",
            "ticks": ""
           },
           "bgcolor": "#E5ECF6",
           "caxis": {
            "gridcolor": "white",
            "linecolor": "white",
            "ticks": ""
           }
          },
          "title": {
           "x": 0.05
          },
          "xaxis": {
           "automargin": true,
           "gridcolor": "white",
           "linecolor": "white",
           "ticks": "",
           "title": {
            "standoff": 15
           },
           "zerolinecolor": "white",
           "zerolinewidth": 2
          },
          "yaxis": {
           "automargin": true,
           "gridcolor": "white",
           "linecolor": "white",
           "ticks": "",
           "title": {
            "standoff": 15
           },
           "zerolinecolor": "white",
           "zerolinewidth": 2
          }
         }
        },
        "title": {
         "text": "Simple Plot"
        },
        "xaxis": {
         "title": {
          "text": "X-axis"
         }
        },
        "yaxis": {
         "title": {
          "text": "Y-axis"
         }
        }
       }
      }
     },
     "metadata": {},
     "output_type": "display_data"
    }
   ],
   "source": [
    "plot_xy(\n",
    "    get_column(data_0_trades, 'timestamp'),\n",
    "    get_column(data_0_trades, 'price'),\n",
    ")"
   ]
  },
  {
   "cell_type": "code",
   "execution_count": 8,
   "metadata": {},
   "outputs": [
    {
     "data": {
      "application/vnd.plotly.v1+json": {
       "config": {
        "plotlyServerURL": "https://plot.ly"
       },
       "data": [
        {
         "mode": "markers",
         "name": "price",
         "type": "scatter",
         "x": {
          "bdata": "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",
          "dtype": "i4"
         },
         "y": {
          "bdata": "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",
          "dtype": "f8"
         }
        },
        {
         "mode": "markers",
         "name": "weighted_mid_price",
         "type": "scatter",
         "x": {
          "bdata": "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",
          "dtype": "i4"
         },
         "y": {
          "bdata": "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",
          "dtype": "f8"
         }
        }
       ],
       "layout": {
        "showlegend": true,
        "template": {
         "data": {
          "bar": [
           {
            "error_x": {
             "color": "#2a3f5f"
            },
            "error_y": {
             "color": "#2a3f5f"
            },
            "marker": {
             "line": {
              "color": "#E5ECF6",
              "width": 0.5
             },
             "pattern": {
              "fillmode": "overlay",
              "size": 10,
              "solidity": 0.2
             }
            },
            "type": "bar"
           }
          ],
          "barpolar": [
           {
            "marker": {
             "line": {
              "color": "#E5ECF6",
              "width": 0.5
             },
             "pattern": {
              "fillmode": "overlay",
              "size": 10,
              "solidity": 0.2
             }
            },
            "type": "barpolar"
           }
          ],
          "carpet": [
           {
            "aaxis": {
             "endlinecolor": "#2a3f5f",
             "gridcolor": "white",
             "linecolor": "white",
             "minorgridcolor": "white",
             "startlinecolor": "#2a3f5f"
            },
            "baxis": {
             "endlinecolor": "#2a3f5f",
             "gridcolor": "white",
             "linecolor": "white",
             "minorgridcolor": "white",
             "startlinecolor": "#2a3f5f"
            },
            "type": "carpet"
           }
          ],
          "choropleth": [
           {
            "colorbar": {
             "outlinewidth": 0,
             "ticks": ""
            },
            "type": "choropleth"
           }
          ],
          "contour": [
           {
            "colorbar": {
             "outlinewidth": 0,
             "ticks": ""
            },
            "colorscale": [
             [
              0,
              "#0d0887"
             ],
             [
              0.1111111111111111,
              "#46039f"
             ],
             [
              0.2222222222222222,
              "#7201a8"
             ],
             [
              0.3333333333333333,
              "#9c179e"
             ],
             [
              0.4444444444444444,
              "#bd3786"
             ],
             [
              0.5555555555555556,
              "#d8576b"
             ],
             [
              0.6666666666666666,
              "#ed7953"
             ],
             [
              0.7777777777777778,
              "#fb9f3a"
             ],
             [
              0.8888888888888888,
              "#fdca26"
             ],
             [
              1,
              "#f0f921"
             ]
            ],
            "type": "contour"
           }
          ],
          "contourcarpet": [
           {
            "colorbar": {
             "outlinewidth": 0,
             "ticks": ""
            },
            "type": "contourcarpet"
           }
          ],
          "heatmap": [
           {
            "colorbar": {
             "outlinewidth": 0,
             "ticks": ""
            },
            "colorscale": [
             [
              0,
              "#0d0887"
             ],
             [
              0.1111111111111111,
              "#46039f"
             ],
             [
              0.2222222222222222,
              "#7201a8"
             ],
             [
              0.3333333333333333,
              "#9c179e"
             ],
             [
              0.4444444444444444,
              "#bd3786"
             ],
             [
              0.5555555555555556,
              "#d8576b"
             ],
             [
              0.6666666666666666,
              "#ed7953"
             ],
             [
              0.7777777777777778,
              "#fb9f3a"
             ],
             [
              0.8888888888888888,
              "#fdca26"
             ],
             [
              1,
              "#f0f921"
             ]
            ],
            "type": "heatmap"
           }
          ],
          "histogram": [
           {
            "marker": {
             "pattern": {
              "fillmode": "overlay",
              "size": 10,
              "solidity": 0.2
             }
            },
            "type": "histogram"
           }
          ],
          "histogram2d": [
           {
            "colorbar": {
             "outlinewidth": 0,
             "ticks": ""
            },
            "colorscale": [
             [
              0,
              "#0d0887"
             ],
             [
              0.1111111111111111,
              "#46039f"
             ],
             [
              0.2222222222222222,
              "#7201a8"
             ],
             [
              0.3333333333333333,
              "#9c179e"
             ],
             [
              0.4444444444444444,
              "#bd3786"
             ],
             [
              0.5555555555555556,
              "#d8576b"
             ],
             [
              0.6666666666666666,
              "#ed7953"
             ],
             [
              0.7777777777777778,
              "#fb9f3a"
             ],
             [
              0.8888888888888888,
              "#fdca26"
             ],
             [
              1,
              "#f0f921"
             ]
            ],
            "type": "histogram2d"
           }
          ],
          "histogram2dcontour": [
           {
            "colorbar": {
             "outlinewidth": 0,
             "ticks": ""
            },
            "colorscale": [
             [
              0,
              "#0d0887"
             ],
             [
              0.1111111111111111,
              "#46039f"
             ],
             [
              0.2222222222222222,
              "#7201a8"
             ],
             [
              0.3333333333333333,
              "#9c179e"
             ],
             [
              0.4444444444444444,
              "#bd3786"
             ],
             [
              0.5555555555555556,
              "#d8576b"
             ],
             [
              0.6666666666666666,
              "#ed7953"
             ],
             [
              0.7777777777777778,
              "#fb9f3a"
             ],
             [
              0.8888888888888888,
              "#fdca26"
             ],
             [
              1,
              "#f0f921"
             ]
            ],
            "type": "histogram2dcontour"
           }
          ],
          "mesh3d": [
           {
            "colorbar": {
             "outlinewidth": 0,
             "ticks": ""
            },
            "type": "mesh3d"
           }
          ],
          "parcoords": [
           {
            "line": {
             "colorbar": {
              "outlinewidth": 0,
              "ticks": ""
             }
            },
            "type": "parcoords"
           }
          ],
          "pie": [
           {
            "automargin": true,
            "type": "pie"
           }
          ],
          "scatter": [
           {
            "fillpattern": {
             "fillmode": "overlay",
             "size": 10,
             "solidity": 0.2
            },
            "type": "scatter"
           }
          ],
          "scatter3d": [
           {
            "line": {
             "colorbar": {
              "outlinewidth": 0,
              "ticks": ""
             }
            },
            "marker": {
             "colorbar": {
              "outlinewidth": 0,
              "ticks": ""
             }
            },
            "type": "scatter3d"
           }
          ],
          "scattercarpet": [
           {
            "marker": {
             "colorbar": {
              "outlinewidth": 0,
              "ticks": ""
             }
            },
            "type": "scattercarpet"
           }
          ],
          "scattergeo": [
           {
            "marker": {
             "colorbar": {
              "outlinewidth": 0,
              "ticks": ""
             }
            },
            "type": "scattergeo"
           }
          ],
          "scattergl": [
           {
            "marker": {
             "colorbar": {
              "outlinewidth": 0,
              "ticks": ""
             }
            },
            "type": "scattergl"
           }
          ],
          "scattermap": [
           {
            "marker": {
             "colorbar": {
              "outlinewidth": 0,
              "ticks": ""
             }
            },
            "type": "scattermap"
           }
          ],
          "scattermapbox": [
           {
            "marker": {
             "colorbar": {
              "outlinewidth": 0,
              "ticks": ""
             }
            },
            "type": "scattermapbox"
           }
          ],
          "scatterpolar": [
           {
            "marker": {
             "colorbar": {
              "outlinewidth": 0,
              "ticks": ""
             }
            },
            "type": "scatterpolar"
           }
          ],
          "scatterpolargl": [
           {
            "marker": {
             "colorbar": {
              "outlinewidth": 0,
              "ticks": ""
             }
            },
            "type": "scatterpolargl"
           }
          ],
          "scatterternary": [
           {
            "marker": {
             "colorbar": {
              "outlinewidth": 0,
              "ticks": ""
             }
            },
            "type": "scatterternary"
           }
          ],
          "surface": [
           {
            "colorbar": {
             "outlinewidth": 0,
             "ticks": ""
            },
            "colorscale": [
             [
              0,
              "#0d0887"
             ],
             [
              0.1111111111111111,
              "#46039f"
             ],
             [
              0.2222222222222222,
              "#7201a8"
             ],
             [
              0.3333333333333333,
              "#9c179e"
             ],
             [
              0.4444444444444444,
              "#bd3786"
             ],
             [
              0.5555555555555556,
              "#d8576b"
             ],
             [
              0.6666666666666666,
              "#ed7953"
             ],
             [
              0.7777777777777778,
              "#fb9f3a"
             ],
             [
              0.8888888888888888,
              "#fdca26"
             ],
             [
              1,
              "#f0f921"
             ]
            ],
            "type": "surface"
           }
          ],
          "table": [
           {
            "cells": {
             "fill": {
              "color": "#EBF0F8"
             },
             "line": {
              "color": "white"
             }
            },
            "header": {
             "fill": {
              "color": "#C8D4E3"
             },
             "line": {
              "color": "white"
             }
            },
            "type": "table"
           }
          ]
         },
         "layout": {
          "annotationdefaults": {
           "arrowcolor": "#2a3f5f",
           "arrowhead": 0,
           "arrowwidth": 1
          },
          "autotypenumbers": "strict",
          "coloraxis": {
           "colorbar": {
            "outlinewidth": 0,
            "ticks": ""
           }
          },
          "colorscale": {
           "diverging": [
            [
             0,
             "#8e0152"
            ],
            [
             0.1,
             "#c51b7d"
            ],
            [
             0.2,
             "#de77ae"
            ],
            [
             0.3,
             "#f1b6da"
            ],
            [
             0.4,
             "#fde0ef"
            ],
            [
             0.5,
             "#f7f7f7"
            ],
            [
             0.6,
             "#e6f5d0"
            ],
            [
             0.7,
             "#b8e186"
            ],
            [
             0.8,
             "#7fbc41"
            ],
            [
             0.9,
             "#4d9221"
            ],
            [
             1,
             "#276419"
            ]
           ],
           "sequential": [
            [
             0,
             "#0d0887"
            ],
            [
             0.1111111111111111,
             "#46039f"
            ],
            [
             0.2222222222222222,
             "#7201a8"
            ],
            [
             0.3333333333333333,
             "#9c179e"
            ],
            [
             0.4444444444444444,
             "#bd3786"
            ],
            [
             0.5555555555555556,
             "#d8576b"
            ],
            [
             0.6666666666666666,
             "#ed7953"
            ],
            [
             0.7777777777777778,
             "#fb9f3a"
            ],
            [
             0.8888888888888888,
             "#fdca26"
            ],
            [
             1,
             "#f0f921"
            ]
           ],
           "sequentialminus": [
            [
             0,
             "#0d0887"
            ],
            [
             0.1111111111111111,
             "#46039f"
            ],
            [
             0.2222222222222222,
             "#7201a8"
            ],
            [
             0.3333333333333333,
             "#9c179e"
            ],
            [
             0.4444444444444444,
             "#bd3786"
            ],
            [
             0.5555555555555556,
             "#d8576b"
            ],
            [
             0.6666666666666666,
             "#ed7953"
            ],
            [
             0.7777777777777778,
             "#fb9f3a"
            ],
            [
             0.8888888888888888,
             "#fdca26"
            ],
            [
             1,
             "#f0f921"
            ]
           ]
          },
          "colorway": [
           "#636efa",
           "#EF553B",
           "#00cc96",
           "#ab63fa",
           "#FFA15A",
           "#19d3f3",
           "#FF6692",
           "#B6E880",
           "#FF97FF",
           "#FECB52"
          ],
          "font": {
           "color": "#2a3f5f"
          },
          "geo": {
           "bgcolor": "white",
           "lakecolor": "white",
           "landcolor": "#E5ECF6",
           "showlakes": true,
           "showland": true,
           "subunitcolor": "white"
          },
          "hoverlabel": {
           "align": "left"
          },
          "hovermode": "closest",
          "mapbox": {
           "style": "light"
          },
          "paper_bgcolor": "white",
          "plot_bgcolor": "#E5ECF6",
          "polar": {
           "angularaxis": {
            "gridcolor": "white",
            "linecolor": "white",
            "ticks": ""
           },
           "bgcolor": "#E5ECF6",
           "radialaxis": {
            "gridcolor": "white",
            "linecolor": "white",
            "ticks": ""
           }
          },
          "scene": {
           "xaxis": {
            "backgroundcolor": "#E5ECF6",
            "gridcolor": "white",
            "gridwidth": 2,
            "linecolor": "white",
            "showbackground": true,
            "ticks": "",
            "zerolinecolor": "white"
           },
           "yaxis": {
            "backgroundcolor": "#E5ECF6",
            "gridcolor": "white",
            "gridwidth": 2,
            "linecolor": "white",
            "showbackground": true,
            "ticks": "",
            "zerolinecolor": "white"
           },
           "zaxis": {
            "backgroundcolor": "#E5ECF6",
            "gridcolor": "white",
            "gridwidth": 2,
            "linecolor": "white",
            "showbackground": true,
            "ticks": "",
            "zerolinecolor": "white"
           }
          },
          "shapedefaults": {
           "line": {
            "color": "#2a3f5f"
           }
          },
          "ternary": {
           "aaxis": {
            "gridcolor": "white",
            "linecolor": "white",
            "ticks": ""
           },
           "baxis": {
            "gridcolor": "white",
            "linecolor": "white",
            "ticks": ""
           },
           "bgcolor": "#E5ECF6",
           "caxis": {
            "gridcolor": "white",
            "linecolor": "white",
            "ticks": ""
           }
          },
          "title": {
           "x": 0.05
          },
          "xaxis": {
           "automargin": true,
           "gridcolor": "white",
           "linecolor": "white",
           "ticks": "",
           "title": {
            "standoff": 15
           },
           "zerolinecolor": "white",
           "zerolinewidth": 2
          },
          "yaxis": {
           "automargin": true,
           "gridcolor": "white",
           "linecolor": "white",
           "ticks": "",
           "title": {
            "standoff": 15
           },
           "zerolinecolor": "white",
           "zerolinewidth": 2
          }
         }
        },
        "title": {
         "text": "Simple Plot"
        },
        "xaxis": {
         "title": {
          "text": "timestamp"
         }
        },
        "yaxis": {
         "title": {
          "text": "price"
         }
        }
       }
      }
     },
     "metadata": {},
     "output_type": "display_data"
    }
   ],
   "source": [
    "plot_xyxy(\n",
    "    get_column(data_0_trades, 'timestamp'),\n",
    "    get_column(data_0_trades, 'price'),\n",
    "    get_column(data_1_prices, 'timestamp'),\n",
    "    calculate_weighted_mid(data_0_prices),\n",
    "    x_label='timestamp',\n",
    "    y_label='price',\n",
    "    y2_label='weighted_mid_price',\n",
    ")\n"
   ]
  },
  {
   "cell_type": "code",
   "execution_count": 7,
   "metadata": {},
   "outputs": [
    {
     "data": {
      "application/vnd.plotly.v1+json": {
       "config": {
        "plotlyServerURL": "https://plot.ly"
       },
       "data": [
        {
         "mode": "markers",
         "name": "Y-axis",
         "type": "scatter",
         "x": {
          "bdata": "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",
          "dtype": "f8"
         },
         "y": {
          "bdata": "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",
          "dtype": "f8"
         }
        }
       ],
       "layout": {
        "showlegend": true,
        "template": {
         "data": {
          "bar": [
           {
            "error_x": {
             "color": "#2a3f5f"
            },
            "error_y": {
             "color": "#2a3f5f"
            },
            "marker": {
             "line": {
              "color": "#E5ECF6",
              "width": 0.5
             },
             "pattern": {
              "fillmode": "overlay",
              "size": 10,
              "solidity": 0.2
             }
            },
            "type": "bar"
           }
          ],
          "barpolar": [
           {
            "marker": {
             "line": {
              "color": "#E5ECF6",
              "width": 0.5
             },
             "pattern": {
              "fillmode": "overlay",
              "size": 10,
              "solidity": 0.2
             }
            },
            "type": "barpolar"
           }
          ],
          "carpet": [
           {
            "aaxis": {
             "endlinecolor": "#2a3f5f",
             "gridcolor": "white",
             "linecolor": "white",
             "minorgridcolor": "white",
             "startlinecolor": "#2a3f5f"
            },
            "baxis": {
             "endlinecolor": "#2a3f5f",
             "gridcolor": "white",
             "linecolor": "white",
             "minorgridcolor": "white",
             "startlinecolor": "#2a3f5f"
            },
            "type": "carpet"
           }
          ],
          "choropleth": [
           {
            "colorbar": {
             "outlinewidth": 0,
             "ticks": ""
            },
            "type": "choropleth"
           }
          ],
          "contour": [
           {
            "colorbar": {
             "outlinewidth": 0,
             "ticks": ""
            },
            "colorscale": [
             [
              0,
              "#0d0887"
             ],
             [
              0.1111111111111111,
              "#46039f"
             ],
             [
              0.2222222222222222,
              "#7201a8"
             ],
             [
              0.3333333333333333,
              "#9c179e"
             ],
             [
              0.4444444444444444,
              "#bd3786"
             ],
             [
              0.5555555555555556,
              "#d8576b"
             ],
             [
              0.6666666666666666,
              "#ed7953"
             ],
             [
              0.7777777777777778,
              "#fb9f3a"
             ],
             [
              0.8888888888888888,
              "#fdca26"
             ],
             [
              1,
              "#f0f921"
             ]
            ],
            "type": "contour"
           }
          ],
          "contourcarpet": [
           {
            "colorbar": {
             "outlinewidth": 0,
             "ticks": ""
            },
            "type": "contourcarpet"
           }
          ],
          "heatmap": [
           {
            "colorbar": {
             "outlinewidth": 0,
             "ticks": ""
            },
            "colorscale": [
             [
              0,
              "#0d0887"
             ],
             [
              0.1111111111111111,
              "#46039f"
             ],
             [
              0.2222222222222222,
              "#7201a8"
             ],
             [
              0.3333333333333333,
              "#9c179e"
             ],
             [
              0.4444444444444444,
              "#bd3786"
             ],
             [
              0.5555555555555556,
              "#d8576b"
             ],
             [
              0.6666666666666666,
              "#ed7953"
             ],
             [
              0.7777777777777778,
              "#fb9f3a"
             ],
             [
              0.8888888888888888,
              "#fdca26"
             ],
             [
              1,
              "#f0f921"
             ]
            ],
            "type": "heatmap"
           }
          ],
          "histogram": [
           {
            "marker": {
             "pattern": {
              "fillmode": "overlay",
              "size": 10,
              "solidity": 0.2
             }
            },
            "type": "histogram"
           }
          ],
          "histogram2d": [
           {
            "colorbar": {
             "outlinewidth": 0,
             "ticks": ""
            },
            "colorscale": [
             [
              0,
              "#0d0887"
             ],
             [
              0.1111111111111111,
              "#46039f"
             ],
             [
              0.2222222222222222,
              "#7201a8"
             ],
             [
              0.3333333333333333,
              "#9c179e"
             ],
             [
              0.4444444444444444,
              "#bd3786"
             ],
             [
              0.5555555555555556,
              "#d8576b"
             ],
             [
              0.6666666666666666,
              "#ed7953"
             ],
             [
              0.7777777777777778,
              "#fb9f3a"
             ],
             [
              0.8888888888888888,
              "#fdca26"
             ],
             [
              1,
              "#f0f921"
             ]
            ],
            "type": "histogram2d"
           }
          ],
          "histogram2dcontour": [
           {
            "colorbar": {
             "outlinewidth": 0,
             "ticks": ""
            },
            "colorscale": [
             [
              0,
              "#0d0887"
             ],
             [
              0.1111111111111111,
              "#46039f"
             ],
             [
              0.2222222222222222,
              "#7201a8"
             ],
             [
              0.3333333333333333,
              "#9c179e"
             ],
             [
              0.4444444444444444,
              "#bd3786"
             ],
             [
              0.5555555555555556,
              "#d8576b"
             ],
             [
              0.6666666666666666,
              "#ed7953"
             ],
             [
              0.7777777777777778,
              "#fb9f3a"
             ],
             [
              0.8888888888888888,
              "#fdca26"
             ],
             [
              1,
              "#f0f921"
             ]
            ],
            "type": "histogram2dcontour"
           }
          ],
          "mesh3d": [
           {
            "colorbar": {
             "outlinewidth": 0,
             "ticks": ""
            },
            "type": "mesh3d"
           }
          ],
          "parcoords": [
           {
            "line": {
             "colorbar": {
              "outlinewidth": 0,
              "ticks": ""
             }
            },
            "type": "parcoords"
           }
          ],
          "pie": [
           {
            "automargin": true,
            "type": "pie"
           }
          ],
          "scatter": [
           {
            "fillpattern": {
             "fillmode": "overlay",
             "size": 10,
             "solidity": 0.2
            },
            "type": "scatter"
           }
          ],
          "scatter3d": [
           {
            "line": {
             "colorbar": {
              "outlinewidth": 0,
              "ticks": ""
             }
            },
            "marker": {
             "colorbar": {
              "outlinewidth": 0,
              "ticks": ""
             }
            },
            "type": "scatter3d"
           }
          ],
          "scattercarpet": [
           {
            "marker": {
             "colorbar": {
              "outlinewidth": 0,
              "ticks": ""
             }
            },
            "type": "scattercarpet"
           }
          ],
          "scattergeo": [
           {
            "marker": {
             "colorbar": {
              "outlinewidth": 0,
              "ticks": ""
             }
            },
            "type": "scattergeo"
           }
          ],
          "scattergl": [
           {
            "marker": {
             "colorbar": {
              "outlinewidth": 0,
              "ticks": ""
             }
            },
            "type": "scattergl"
           }
          ],
          "scattermap": [
           {
            "marker": {
             "colorbar": {
              "outlinewidth": 0,
              "ticks": ""
             }
            },
            "type": "scattermap"
           }
          ],
          "scattermapbox": [
           {
            "marker": {
             "colorbar": {
              "outlinewidth": 0,
              "ticks": ""
             }
            },
            "type": "scattermapbox"
           }
          ],
          "scatterpolar": [
           {
            "marker": {
             "colorbar": {
              "outlinewidth": 0,
              "ticks": ""
             }
            },
            "type": "scatterpolar"
           }
          ],
          "scatterpolargl": [
           {
            "marker": {
             "colorbar": {
              "outlinewidth": 0,
              "ticks": ""
             }
            },
            "type": "scatterpolargl"
           }
          ],
          "scatterternary": [
           {
            "marker": {
             "colorbar": {
              "outlinewidth": 0,
              "ticks": ""
             }
            },
            "type": "scatterternary"
           }
          ],
          "surface": [
           {
            "colorbar": {
             "outlinewidth": 0,
             "ticks": ""
            },
            "colorscale": [
             [
              0,
              "#0d0887"
             ],
             [
              0.1111111111111111,
              "#46039f"
             ],
             [
              0.2222222222222222,
              "#7201a8"
             ],
             [
              0.3333333333333333,
              "#9c179e"
             ],
             [
              0.4444444444444444,
              "#bd3786"
             ],
             [
              0.5555555555555556,
              "#d8576b"
             ],
             [
              0.6666666666666666,
              "#ed7953"
             ],
             [
              0.7777777777777778,
              "#fb9f3a"
             ],
             [
              0.8888888888888888,
              "#fdca26"
             ],
             [
              1,
              "#f0f921"
             ]
            ],
            "type": "surface"
           }
          ],
          "table": [
           {
            "cells": {
             "fill": {
              "color": "#EBF0F8"
             },
             "line": {
              "color": "white"
             }
            },
            "header": {
             "fill": {
              "color": "#C8D4E3"
             },
             "line": {
              "color": "white"
             }
            },
            "type": "table"
           }
          ]
         },
         "layout": {
          "annotationdefaults": {
           "arrowcolor": "#2a3f5f",
           "arrowhead": 0,
           "arrowwidth": 1
          },
          "autotypenumbers": "strict",
          "coloraxis": {
           "colorbar": {
            "outlinewidth": 0,
            "ticks": ""
           }
          },
          "colorscale": {
           "diverging": [
            [
             0,
             "#8e0152"
            ],
            [
             0.1,
             "#c51b7d"
            ],
            [
             0.2,
             "#de77ae"
            ],
            [
             0.3,
             "#f1b6da"
            ],
            [
             0.4,
             "#fde0ef"
            ],
            [
             0.5,
             "#f7f7f7"
            ],
            [
             0.6,
             "#e6f5d0"
            ],
            [
             0.7,
             "#b8e186"
            ],
            [
             0.8,
             "#7fbc41"
            ],
            [
             0.9,
             "#4d9221"
            ],
            [
             1,
             "#276419"
            ]
           ],
           "sequential": [
            [
             0,
             "#0d0887"
            ],
            [
             0.1111111111111111,
             "#46039f"
            ],
            [
             0.2222222222222222,
             "#7201a8"
            ],
            [
             0.3333333333333333,
             "#9c179e"
            ],
            [
             0.4444444444444444,
             "#bd3786"
            ],
            [
             0.5555555555555556,
             "#d8576b"
            ],
            [
             0.6666666666666666,
             "#ed7953"
            ],
            [
             0.7777777777777778,
             "#fb9f3a"
            ],
            [
             0.8888888888888888,
             "#fdca26"
            ],
            [
             1,
             "#f0f921"
            ]
           ],
           "sequentialminus": [
            [
             0,
             "#0d0887"
            ],
            [
             0.1111111111111111,
             "#46039f"
            ],
            [
             0.2222222222222222,
             "#7201a8"
            ],
            [
             0.3333333333333333,
             "#9c179e"
            ],
            [
             0.4444444444444444,
             "#bd3786"
            ],
            [
             0.5555555555555556,
             "#d8576b"
            ],
            [
             0.6666666666666666,
             "#ed7953"
            ],
            [
             0.7777777777777778,
             "#fb9f3a"
            ],
            [
             0.8888888888888888,
             "#fdca26"
            ],
            [
             1,
             "#f0f921"
            ]
           ]
          },
          "colorway": [
           "#636efa",
           "#EF553B",
           "#00cc96",
           "#ab63fa",
           "#FFA15A",
           "#19d3f3",
           "#FF6692",
           "#B6E880",
           "#FF97FF",
           "#FECB52"
          ],
          "font": {
           "color": "#2a3f5f"
          },
          "geo": {
           "bgcolor": "white",
           "lakecolor": "white",
           "landcolor": "#E5ECF6",
           "showlakes": true,
           "showland": true,
           "subunitcolor": "white"
          },
          "hoverlabel": {
           "align": "left"
          },
          "hovermode": "closest",
          "mapbox": {
           "style": "light"
          },
          "paper_bgcolor": "white",
          "plot_bgcolor": "#E5ECF6",
          "polar": {
           "angularaxis": {
            "gridcolor": "white",
            "linecolor": "white",
            "ticks": ""
           },
           "bgcolor": "#E5ECF6",
           "radialaxis": {
            "gridcolor": "white",
            "linecolor": "white",
            "ticks": ""
           }
          },
          "scene": {
           "xaxis": {
            "backgroundcolor": "#E5ECF6",
            "gridcolor": "white",
            "gridwidth": 2,
            "linecolor": "white",
            "showbackground": true,
            "ticks": "",
            "zerolinecolor": "white"
           },
           "yaxis": {
            "backgroundcolor": "#E5ECF6",
            "gridcolor": "white",
            "gridwidth": 2,
            "linecolor": "white",
            "showbackground": true,
            "ticks": "",
            "zerolinecolor": "white"
           },
           "zaxis": {
            "backgroundcolor": "#E5ECF6",
            "gridcolor": "white",
            "gridwidth": 2,
            "linecolor": "white",
            "showbackground": true,
            "ticks": "",
            "zerolinecolor": "white"
           }
          },
          "shapedefaults": {
           "line": {
            "color": "#2a3f5f"
           }
          },
          "ternary": {
           "aaxis": {
            "gridcolor": "white",
            "linecolor": "white",
            "ticks": ""
           },
           "baxis": {
            "gridcolor": "white",
            "linecolor": "white",
            "ticks": ""
           },
           "bgcolor": "#E5ECF6",
           "caxis": {
            "gridcolor": "white",
            "linecolor": "white",
            "ticks": ""
           }
          },
          "title": {
           "x": 0.05
          },
          "xaxis": {
           "automargin": true,
           "gridcolor": "white",
           "linecolor": "white",
           "ticks": "",
           "title": {
            "standoff": 15
           },
           "zerolinecolor": "white",
           "zerolinewidth": 2
          },
          "yaxis": {
           "automargin": true,
           "gridcolor": "white",
           "linecolor": "white",
           "ticks": "",
           "title": {
            "standoff": 15
           },
           "zerolinecolor": "white",
           "zerolinewidth": 2
          }
         }
        },
        "title": {
         "text": "Simple Plot"
        },
        "xaxis": {
         "title": {
          "text": "X-axis"
         }
        },
        "yaxis": {
         "title": {
          "text": "Y-axis"
         }
        }
       }
      }
     },
     "metadata": {},
     "output_type": "display_data"
    },
    {
     "data": {
      "image/png": "[encoded data removed]",
      "text/plain": [
       "<Figure size 1000x600 with 1 Axes>"
      ]
     },
     "metadata": {},
     "output_type": "display_data"
    },
    {
     "data": {
      "text/plain": [
       "<Axes: title={'center': 'Histogram of Series'}, xlabel='Values', ylabel='Frequency'>"
      ]
     },
     "execution_count": 7,
     "metadata": {},
     "output_type": "execute_result"
    }
   ],
   "source": [
    "sm_trades_mid = smooth_series_fixed_length(\n",
    "    get_column(data_0_trades, 'price'), 500)\n",
    "\n",
    "sm_prices_mid = smooth_series_fixed_length(calculate_weighted_mid(data_0_prices), 500)\n",
    "\n",
    "plot_xy(sm_trades_mid, sm_prices_mid)\n",
    "plot_histogram_from_series(sm_prices_mid - sm_trades_mid)\n",
    "\n"
   ]
  }
 ],
 "metadata": {
  "kernelspec": {
   "display_name": "Python 3",
   "language": "python",
   "name": "python3"
  },
  "language_info": {
   "codemirror_mode": {
    "name": "ipython",
    "version": 3
   },
   "file_extension": ".py",
   "mimetype": "text/x-python",
   "name": "python",
   "nbconvert_exporter": "python",
   "pygments_lexer": "ipython3",
   "version": "3.12.1"
  }
 },
 "nbformat": 4,
 "nbformat_minor": 2
}
